{
 "cells": [
  {
   "cell_type": "code",
   "execution_count": 1,
   "metadata": {},
   "outputs": [],
   "source": [
    "import numpy as np"
   ]
  },
  {
   "cell_type": "code",
   "execution_count": 2,
   "metadata": {},
   "outputs": [],
   "source": [
    "def connectionist_temporal_classification(X, Y, num_labels):\n",
    "    # Input:\n",
    "    # X: Input sequence (shape: (input_seq_length, input_feature_dim))\n",
    "    # Y: Output sequence (shape: (output_seq_length,))\n",
    "    # num_labels: Total number of labels (including the blank label)\n",
    "    \n",
    "    # Step 1: Initialization\n",
    "    T, input_dim = X.shape\n",
    "    output_seq_length = len(Y)\n",
    "    blank_label = num_labels - 1\n",
    "\n",
    "    # Step 2: Forward Algorithm\n",
    "    forward_probs = np.zeros((T, num_labels))\n",
    "    forward_probs[0, Y[0]] = 1\n",
    "\n",
    "    for t in range(1, T):\n",
    "        for label in range(num_labels):\n",
    "            prob = forward_probs[t-1, label]\n",
    "            if label == Y[t]:\n",
    "                prob += forward_probs[t-1, label]\n",
    "            if Y[t] == blank_label:\n",
    "                prob += forward_probs[t-1, blank_label]\n",
    "            forward_probs[t, label] = prob\n",
    "\n",
    "    # Step 3: Backward Algorithm\n",
    "    backward_probs = np.zeros((T, num_labels))\n",
    "    backward_probs[T-1, Y[-1]] = 1\n",
    "\n",
    "    for t in range(T-2, -1, -1):\n",
    "        for label in range(num_labels):\n",
    "            prob = backward_probs[t+1, label]\n",
    "            if label == Y[t+1]:\n",
    "                prob += backward_probs[t+1, label]\n",
    "            if Y[t+1] == blank_label:\n",
    "                prob += backward_probs[t+1, blank_label]\n",
    "            backward_probs[t, label] = prob\n",
    "\n",
    "    # Step 4: Compute Aligned Probabilities\n",
    "    aligned_probs = forward_probs * backward_probs\n",
    "    aligned_probs /= np.sum(aligned_probs, axis=1, keepdims=True)\n",
    "\n",
    "    # Step 5: Remove Repetitions and Blank Labels\n",
    "    non_blank_probs = aligned_probs[:, :-1]\n",
    "    non_blank_probs = np.maximum(non_blank_probs, np.zeros_like(non_blank_probs))\n",
    "\n",
    "    # Step 6: Compute Loss\n",
    "    loss = -np.log(np.sum(non_blank_probs, axis=1)).sum()\n",
    "\n",
    "    return loss"
   ]
  },
  {
   "cell_type": "code",
   "execution_count": 3,
   "metadata": {},
   "outputs": [],
   "source": [
    "# Example Usage:\n",
    "input_seq = np.random.rand(100, 20)  # Example input sequence of length 100 and 20 features\n",
    "output_seq = [1, 3, 2]  # Example output sequence\n",
    "num_labels = 5  # Including the blank label\n"
   ]
  },
  {
   "cell_type": "code",
   "execution_count": 4,
   "metadata": {},
   "outputs": [
    {
     "ename": "IndexError",
     "evalue": "list index out of range",
     "output_type": "error",
     "traceback": [
      "\u001b[0;31m---------------------------------------------------------------------------\u001b[0m",
      "\u001b[0;31mIndexError\u001b[0m                                Traceback (most recent call last)",
      "\u001b[0;32m<ipython-input-4-05fa33478fac>\u001b[0m in \u001b[0;36m<module>\u001b[0;34m\u001b[0m\n\u001b[0;32m----> 1\u001b[0;31m \u001b[0mctc_loss\u001b[0m \u001b[0;34m=\u001b[0m \u001b[0mconnectionist_temporal_classification\u001b[0m\u001b[0;34m(\u001b[0m\u001b[0minput_seq\u001b[0m\u001b[0;34m,\u001b[0m \u001b[0moutput_seq\u001b[0m\u001b[0;34m,\u001b[0m \u001b[0mnum_labels\u001b[0m\u001b[0;34m)\u001b[0m\u001b[0;34m\u001b[0m\u001b[0;34m\u001b[0m\u001b[0m\n\u001b[0m\u001b[1;32m      2\u001b[0m \u001b[0mprint\u001b[0m\u001b[0;34m(\u001b[0m\u001b[0;34m\"CTC Loss:\"\u001b[0m\u001b[0;34m,\u001b[0m \u001b[0mctc_loss\u001b[0m\u001b[0;34m)\u001b[0m\u001b[0;34m\u001b[0m\u001b[0;34m\u001b[0m\u001b[0m\n",
      "\u001b[0;32m<ipython-input-2-024357b79e9a>\u001b[0m in \u001b[0;36mconnectionist_temporal_classification\u001b[0;34m(X, Y, num_labels)\u001b[0m\n\u001b[1;32m     17\u001b[0m         \u001b[0;32mfor\u001b[0m \u001b[0mlabel\u001b[0m \u001b[0;32min\u001b[0m \u001b[0mrange\u001b[0m\u001b[0;34m(\u001b[0m\u001b[0mnum_labels\u001b[0m\u001b[0;34m)\u001b[0m\u001b[0;34m:\u001b[0m\u001b[0;34m\u001b[0m\u001b[0;34m\u001b[0m\u001b[0m\n\u001b[1;32m     18\u001b[0m             \u001b[0mprob\u001b[0m \u001b[0;34m=\u001b[0m \u001b[0mforward_probs\u001b[0m\u001b[0;34m[\u001b[0m\u001b[0mt\u001b[0m\u001b[0;34m-\u001b[0m\u001b[0;36m1\u001b[0m\u001b[0;34m,\u001b[0m \u001b[0mlabel\u001b[0m\u001b[0;34m]\u001b[0m\u001b[0;34m\u001b[0m\u001b[0;34m\u001b[0m\u001b[0m\n\u001b[0;32m---> 19\u001b[0;31m             \u001b[0;32mif\u001b[0m \u001b[0mlabel\u001b[0m \u001b[0;34m==\u001b[0m \u001b[0mY\u001b[0m\u001b[0;34m[\u001b[0m\u001b[0mt\u001b[0m\u001b[0;34m]\u001b[0m\u001b[0;34m:\u001b[0m\u001b[0;34m\u001b[0m\u001b[0;34m\u001b[0m\u001b[0m\n\u001b[0m\u001b[1;32m     20\u001b[0m                 \u001b[0mprob\u001b[0m \u001b[0;34m+=\u001b[0m \u001b[0mforward_probs\u001b[0m\u001b[0;34m[\u001b[0m\u001b[0mt\u001b[0m\u001b[0;34m-\u001b[0m\u001b[0;36m1\u001b[0m\u001b[0;34m,\u001b[0m \u001b[0mlabel\u001b[0m\u001b[0;34m]\u001b[0m\u001b[0;34m\u001b[0m\u001b[0;34m\u001b[0m\u001b[0m\n\u001b[1;32m     21\u001b[0m             \u001b[0;32mif\u001b[0m \u001b[0mY\u001b[0m\u001b[0;34m[\u001b[0m\u001b[0mt\u001b[0m\u001b[0;34m]\u001b[0m \u001b[0;34m==\u001b[0m \u001b[0mblank_label\u001b[0m\u001b[0;34m:\u001b[0m\u001b[0;34m\u001b[0m\u001b[0;34m\u001b[0m\u001b[0m\n",
      "\u001b[0;31mIndexError\u001b[0m: list index out of range"
     ]
    }
   ],
   "source": [
    "ctc_loss = connectionist_temporal_classification(input_seq, output_seq, num_labels)\n",
    "print(\"CTC Loss:\", ctc_loss)"
   ]
  },
  {
   "cell_type": "code",
   "execution_count": 5,
   "metadata": {},
   "outputs": [
    {
     "ename": "IndexError",
     "evalue": "list index out of range",
     "output_type": "error",
     "traceback": [
      "\u001b[0;31m---------------------------------------------------------------------------\u001b[0m",
      "\u001b[0;31mIndexError\u001b[0m                                Traceback (most recent call last)",
      "\u001b[0;32m<ipython-input-5-e6d0fcce8806>\u001b[0m in \u001b[0;36m<module>\u001b[0;34m\u001b[0m\n\u001b[1;32m     56\u001b[0m \u001b[0mnum_labels\u001b[0m \u001b[0;34m=\u001b[0m \u001b[0;36m5\u001b[0m  \u001b[0;31m# Including the blank label\u001b[0m\u001b[0;34m\u001b[0m\u001b[0;34m\u001b[0m\u001b[0m\n\u001b[1;32m     57\u001b[0m \u001b[0;34m\u001b[0m\u001b[0m\n\u001b[0;32m---> 58\u001b[0;31m \u001b[0mctc_loss\u001b[0m \u001b[0;34m=\u001b[0m \u001b[0mconnectionist_temporal_classification\u001b[0m\u001b[0;34m(\u001b[0m\u001b[0minput_seq\u001b[0m\u001b[0;34m,\u001b[0m \u001b[0moutput_seq\u001b[0m\u001b[0;34m,\u001b[0m \u001b[0mnum_labels\u001b[0m\u001b[0;34m)\u001b[0m\u001b[0;34m\u001b[0m\u001b[0;34m\u001b[0m\u001b[0m\n\u001b[0m\u001b[1;32m     59\u001b[0m \u001b[0mprint\u001b[0m\u001b[0;34m(\u001b[0m\u001b[0;34m\"CTC Loss:\"\u001b[0m\u001b[0;34m,\u001b[0m \u001b[0mctc_loss\u001b[0m\u001b[0;34m)\u001b[0m\u001b[0;34m\u001b[0m\u001b[0;34m\u001b[0m\u001b[0m\n",
      "\u001b[0;32m<ipython-input-5-e6d0fcce8806>\u001b[0m in \u001b[0;36mconnectionist_temporal_classification\u001b[0;34m(X, Y, num_labels)\u001b[0m\n\u001b[1;32m     19\u001b[0m         \u001b[0;32mfor\u001b[0m \u001b[0mlabel\u001b[0m \u001b[0;32min\u001b[0m \u001b[0mrange\u001b[0m\u001b[0;34m(\u001b[0m\u001b[0mnum_labels\u001b[0m\u001b[0;34m)\u001b[0m\u001b[0;34m:\u001b[0m\u001b[0;34m\u001b[0m\u001b[0;34m\u001b[0m\u001b[0m\n\u001b[1;32m     20\u001b[0m             \u001b[0mprob\u001b[0m \u001b[0;34m=\u001b[0m \u001b[0mforward_probs\u001b[0m\u001b[0;34m[\u001b[0m\u001b[0mt\u001b[0m\u001b[0;34m-\u001b[0m\u001b[0;36m1\u001b[0m\u001b[0;34m,\u001b[0m \u001b[0mlabel\u001b[0m\u001b[0;34m]\u001b[0m\u001b[0;34m\u001b[0m\u001b[0;34m\u001b[0m\u001b[0m\n\u001b[0;32m---> 21\u001b[0;31m             \u001b[0;32mif\u001b[0m \u001b[0mlabel\u001b[0m \u001b[0;34m==\u001b[0m \u001b[0mY\u001b[0m\u001b[0;34m[\u001b[0m\u001b[0mt\u001b[0m\u001b[0;34m]\u001b[0m\u001b[0;34m:\u001b[0m\u001b[0;34m\u001b[0m\u001b[0;34m\u001b[0m\u001b[0m\n\u001b[0m\u001b[1;32m     22\u001b[0m                 \u001b[0mprob\u001b[0m \u001b[0;34m+=\u001b[0m \u001b[0mforward_probs\u001b[0m\u001b[0;34m[\u001b[0m\u001b[0mt\u001b[0m\u001b[0;34m-\u001b[0m\u001b[0;36m1\u001b[0m\u001b[0;34m,\u001b[0m \u001b[0mlabel\u001b[0m\u001b[0;34m]\u001b[0m\u001b[0;34m\u001b[0m\u001b[0;34m\u001b[0m\u001b[0m\n\u001b[1;32m     23\u001b[0m             \u001b[0;32mif\u001b[0m \u001b[0mY\u001b[0m\u001b[0;34m[\u001b[0m\u001b[0mt\u001b[0m\u001b[0;34m]\u001b[0m \u001b[0;34m==\u001b[0m \u001b[0mblank_label\u001b[0m\u001b[0;34m:\u001b[0m\u001b[0;34m\u001b[0m\u001b[0;34m\u001b[0m\u001b[0m\n",
      "\u001b[0;31mIndexError\u001b[0m: list index out of range"
     ]
    }
   ],
   "source": [
    "import numpy as np\n",
    "\n",
    "def connectionist_temporal_classification(X, Y, num_labels):\n",
    "    # Input:\n",
    "    # X: Input sequence (shape: (input_seq_length, input_feature_dim))\n",
    "    # Y: Output sequence (shape: (output_seq_length,))\n",
    "    # num_labels: Total number of labels (including the blank label)\n",
    "    \n",
    "    # Step 1: Initialization\n",
    "    T, input_dim = X.shape\n",
    "    output_seq_length = len(Y)\n",
    "    blank_label = num_labels - 1\n",
    "\n",
    "    # Step 2: Forward Algorithm\n",
    "    forward_probs = np.zeros((T, num_labels))\n",
    "    forward_probs[0, Y[0]] = 1\n",
    "\n",
    "    for t in range(1, T):\n",
    "        for label in range(num_labels):\n",
    "            prob = forward_probs[t-1, label]\n",
    "            if label == Y[t]:\n",
    "                prob += forward_probs[t-1, label]\n",
    "            if Y[t] == blank_label:\n",
    "                prob += forward_probs[t-1, blank_label]\n",
    "            forward_probs[t, label] = prob\n",
    "\n",
    "    # Step 3: Backward Algorithm\n",
    "    backward_probs = np.zeros((T, num_labels))\n",
    "    backward_probs[T-1, Y[output_seq_length - 1]] = 1\n",
    "\n",
    "    for t in range(T-2, -1, -1):\n",
    "        for label in range(num_labels):\n",
    "            prob = backward_probs[t+1, label]\n",
    "            if label == Y[t + 1]:\n",
    "                prob += backward_probs[t+1, label]\n",
    "            if Y[t + 1] == blank_label:\n",
    "                prob += backward_probs[t+1, blank_label]\n",
    "            backward_probs[t, label] = prob\n",
    "\n",
    "    # Step 4: Compute Aligned Probabilities\n",
    "    aligned_probs = forward_probs * backward_probs\n",
    "    aligned_probs /= np.sum(aligned_probs, axis=1, keepdims=True)\n",
    "\n",
    "    # Step 5: Remove Repetitions and Blank Labels\n",
    "    non_blank_probs = aligned_probs[:, :-1]\n",
    "    non_blank_probs = np.maximum(non_blank_probs, np.zeros_like(non_blank_probs))\n",
    "\n",
    "    # Step 6: Compute Loss\n",
    "    loss = -np.log(np.sum(non_blank_probs, axis=1)).sum()\n",
    "\n",
    "    return loss\n",
    "\n",
    "# Example Usage:\n",
    "input_seq = np.random.rand(100, 20)  # Example input sequence of length 100 and 20 features\n",
    "output_seq = [1, 3, 2]  # Example output sequence\n",
    "num_labels = 5  # Including the blank label\n",
    "\n",
    "ctc_loss = connectionist_temporal_classification(input_seq, output_seq, num_labels)\n",
    "print(\"CTC Loss:\", ctc_loss)\n"
   ]
  },
  {
   "cell_type": "code",
   "execution_count": 6,
   "metadata": {},
   "outputs": [
    {
     "ename": "IndexError",
     "evalue": "list index out of range",
     "output_type": "error",
     "traceback": [
      "\u001b[0;31m---------------------------------------------------------------------------\u001b[0m",
      "\u001b[0;31mIndexError\u001b[0m                                Traceback (most recent call last)",
      "\u001b[0;32m<ipython-input-6-2160e8691d00>\u001b[0m in \u001b[0;36m<module>\u001b[0;34m\u001b[0m\n\u001b[1;32m     15\u001b[0m \u001b[0;34m\u001b[0m\u001b[0m\n\u001b[1;32m     16\u001b[0m \u001b[0;31m# Call the CTC algorithm\u001b[0m\u001b[0;34m\u001b[0m\u001b[0;34m\u001b[0m\u001b[0;34m\u001b[0m\u001b[0m\n\u001b[0;32m---> 17\u001b[0;31m \u001b[0mctc_loss\u001b[0m \u001b[0;34m=\u001b[0m \u001b[0mconnectionist_temporal_classification\u001b[0m\u001b[0;34m(\u001b[0m\u001b[0minput_seq\u001b[0m\u001b[0;34m,\u001b[0m \u001b[0moutput_seq\u001b[0m\u001b[0;34m,\u001b[0m \u001b[0mnum_labels\u001b[0m\u001b[0;34m)\u001b[0m\u001b[0;34m\u001b[0m\u001b[0;34m\u001b[0m\u001b[0m\n\u001b[0m\u001b[1;32m     18\u001b[0m \u001b[0mprint\u001b[0m\u001b[0;34m(\u001b[0m\u001b[0;34m\"CTC Loss:\"\u001b[0m\u001b[0;34m,\u001b[0m \u001b[0mctc_loss\u001b[0m\u001b[0;34m)\u001b[0m\u001b[0;34m\u001b[0m\u001b[0;34m\u001b[0m\u001b[0m\n",
      "\u001b[0;32m<ipython-input-5-e6d0fcce8806>\u001b[0m in \u001b[0;36mconnectionist_temporal_classification\u001b[0;34m(X, Y, num_labels)\u001b[0m\n\u001b[1;32m     19\u001b[0m         \u001b[0;32mfor\u001b[0m \u001b[0mlabel\u001b[0m \u001b[0;32min\u001b[0m \u001b[0mrange\u001b[0m\u001b[0;34m(\u001b[0m\u001b[0mnum_labels\u001b[0m\u001b[0;34m)\u001b[0m\u001b[0;34m:\u001b[0m\u001b[0;34m\u001b[0m\u001b[0;34m\u001b[0m\u001b[0m\n\u001b[1;32m     20\u001b[0m             \u001b[0mprob\u001b[0m \u001b[0;34m=\u001b[0m \u001b[0mforward_probs\u001b[0m\u001b[0;34m[\u001b[0m\u001b[0mt\u001b[0m\u001b[0;34m-\u001b[0m\u001b[0;36m1\u001b[0m\u001b[0;34m,\u001b[0m \u001b[0mlabel\u001b[0m\u001b[0;34m]\u001b[0m\u001b[0;34m\u001b[0m\u001b[0;34m\u001b[0m\u001b[0m\n\u001b[0;32m---> 21\u001b[0;31m             \u001b[0;32mif\u001b[0m \u001b[0mlabel\u001b[0m \u001b[0;34m==\u001b[0m \u001b[0mY\u001b[0m\u001b[0;34m[\u001b[0m\u001b[0mt\u001b[0m\u001b[0;34m]\u001b[0m\u001b[0;34m:\u001b[0m\u001b[0;34m\u001b[0m\u001b[0;34m\u001b[0m\u001b[0m\n\u001b[0m\u001b[1;32m     22\u001b[0m                 \u001b[0mprob\u001b[0m \u001b[0;34m+=\u001b[0m \u001b[0mforward_probs\u001b[0m\u001b[0;34m[\u001b[0m\u001b[0mt\u001b[0m\u001b[0;34m-\u001b[0m\u001b[0;36m1\u001b[0m\u001b[0;34m,\u001b[0m \u001b[0mlabel\u001b[0m\u001b[0;34m]\u001b[0m\u001b[0;34m\u001b[0m\u001b[0;34m\u001b[0m\u001b[0m\n\u001b[1;32m     23\u001b[0m             \u001b[0;32mif\u001b[0m \u001b[0mY\u001b[0m\u001b[0;34m[\u001b[0m\u001b[0mt\u001b[0m\u001b[0;34m]\u001b[0m \u001b[0;34m==\u001b[0m \u001b[0mblank_label\u001b[0m\u001b[0;34m:\u001b[0m\u001b[0;34m\u001b[0m\u001b[0;34m\u001b[0m\u001b[0m\n",
      "\u001b[0;31mIndexError\u001b[0m: list index out of range"
     ]
    }
   ],
   "source": [
    "# Example Usage:\n",
    "input_seq = np.random.rand(100, 20)  # Example input sequence of length 100 and 20 features\n",
    "output_seq = [1, 3, 2]  # Example output sequence\n",
    "\n",
    "# Ensure the output sequence contains valid label indices (within the range of num_labels)\n",
    "num_labels = 5  # Including the blank label\n",
    "valid_label_indices = list(range(num_labels))\n",
    "output_seq = [label for label in output_seq if label in valid_label_indices]\n",
    "\n",
    "# Ensure the length of the output sequence is less than or equal to the length of the input sequence\n",
    "input_seq_length = input_seq.shape[0]\n",
    "output_seq_length = len(output_seq)\n",
    "if output_seq_length > input_seq_length:\n",
    "    output_seq = output_seq[:input_seq_length]\n",
    "\n",
    "# Call the CTC algorithm\n",
    "ctc_loss = connectionist_temporal_classification(input_seq, output_seq, num_labels)\n",
    "print(\"CTC Loss:\", ctc_loss)"
   ]
  },
  {
   "cell_type": "code",
   "execution_count": 8,
   "metadata": {},
   "outputs": [
    {
     "ename": "IndexError",
     "evalue": "list index out of range",
     "output_type": "error",
     "traceback": [
      "\u001b[0;31m---------------------------------------------------------------------------\u001b[0m",
      "\u001b[0;31mIndexError\u001b[0m                                Traceback (most recent call last)",
      "\u001b[0;32m<ipython-input-8-b5b24515c11a>\u001b[0m in \u001b[0;36m<module>\u001b[0;34m\u001b[0m\n\u001b[1;32m     20\u001b[0m \u001b[0;34m\u001b[0m\u001b[0m\n\u001b[1;32m     21\u001b[0m \u001b[0;31m# Call the CTC algorithm with the corrected input data and output sequence\u001b[0m\u001b[0;34m\u001b[0m\u001b[0;34m\u001b[0m\u001b[0;34m\u001b[0m\u001b[0m\n\u001b[0;32m---> 22\u001b[0;31m \u001b[0mctc_loss\u001b[0m \u001b[0;34m=\u001b[0m \u001b[0mconnectionist_temporal_classification\u001b[0m\u001b[0;34m(\u001b[0m\u001b[0minput_seq\u001b[0m\u001b[0;34m,\u001b[0m \u001b[0moutput_seq\u001b[0m\u001b[0;34m,\u001b[0m \u001b[0mnum_labels\u001b[0m\u001b[0;34m)\u001b[0m\u001b[0;34m\u001b[0m\u001b[0;34m\u001b[0m\u001b[0m\n\u001b[0m\u001b[1;32m     23\u001b[0m \u001b[0mprint\u001b[0m\u001b[0;34m(\u001b[0m\u001b[0;34m\"CTC Loss:\"\u001b[0m\u001b[0;34m,\u001b[0m \u001b[0mctc_loss\u001b[0m\u001b[0;34m)\u001b[0m\u001b[0;34m\u001b[0m\u001b[0;34m\u001b[0m\u001b[0m\n",
      "\u001b[0;32m<ipython-input-5-e6d0fcce8806>\u001b[0m in \u001b[0;36mconnectionist_temporal_classification\u001b[0;34m(X, Y, num_labels)\u001b[0m\n\u001b[1;32m     19\u001b[0m         \u001b[0;32mfor\u001b[0m \u001b[0mlabel\u001b[0m \u001b[0;32min\u001b[0m \u001b[0mrange\u001b[0m\u001b[0;34m(\u001b[0m\u001b[0mnum_labels\u001b[0m\u001b[0;34m)\u001b[0m\u001b[0;34m:\u001b[0m\u001b[0;34m\u001b[0m\u001b[0;34m\u001b[0m\u001b[0m\n\u001b[1;32m     20\u001b[0m             \u001b[0mprob\u001b[0m \u001b[0;34m=\u001b[0m \u001b[0mforward_probs\u001b[0m\u001b[0;34m[\u001b[0m\u001b[0mt\u001b[0m\u001b[0;34m-\u001b[0m\u001b[0;36m1\u001b[0m\u001b[0;34m,\u001b[0m \u001b[0mlabel\u001b[0m\u001b[0;34m]\u001b[0m\u001b[0;34m\u001b[0m\u001b[0;34m\u001b[0m\u001b[0m\n\u001b[0;32m---> 21\u001b[0;31m             \u001b[0;32mif\u001b[0m \u001b[0mlabel\u001b[0m \u001b[0;34m==\u001b[0m \u001b[0mY\u001b[0m\u001b[0;34m[\u001b[0m\u001b[0mt\u001b[0m\u001b[0;34m]\u001b[0m\u001b[0;34m:\u001b[0m\u001b[0;34m\u001b[0m\u001b[0;34m\u001b[0m\u001b[0m\n\u001b[0m\u001b[1;32m     22\u001b[0m                 \u001b[0mprob\u001b[0m \u001b[0;34m+=\u001b[0m \u001b[0mforward_probs\u001b[0m\u001b[0;34m[\u001b[0m\u001b[0mt\u001b[0m\u001b[0;34m-\u001b[0m\u001b[0;36m1\u001b[0m\u001b[0;34m,\u001b[0m \u001b[0mlabel\u001b[0m\u001b[0;34m]\u001b[0m\u001b[0;34m\u001b[0m\u001b[0;34m\u001b[0m\u001b[0m\n\u001b[1;32m     23\u001b[0m             \u001b[0;32mif\u001b[0m \u001b[0mY\u001b[0m\u001b[0;34m[\u001b[0m\u001b[0mt\u001b[0m\u001b[0;34m]\u001b[0m \u001b[0;34m==\u001b[0m \u001b[0mblank_label\u001b[0m\u001b[0;34m:\u001b[0m\u001b[0;34m\u001b[0m\u001b[0;34m\u001b[0m\u001b[0m\n",
      "\u001b[0;31mIndexError\u001b[0m: list index out of range"
     ]
    }
   ],
   "source": [
    "# Example Usage:\n",
    "X = np.random.rand(100, 20)  # Example input sequence of length 100 and 20 features\n",
    "Y = [1, 3, 2]  # Example output sequence\n",
    "num_labels = 5  # Including the blank label\n",
    "\n",
    "# Step 1: Validate input data and output sequence\n",
    "if len(X.shape) != 2 or len(Y) == 0:\n",
    "    raise ValueError(\"Invalid input data or output sequence\")\n",
    "\n",
    "# Step 2: Ensure num_labels includes the blank label and is greater than max label index in Y\n",
    "valid_label_indices = list(range(num_labels))\n",
    "if not all(label in valid_label_indices for label in Y):\n",
    "    raise ValueError(\"Invalid label indices in output sequence\")\n",
    "\n",
    "# Step 3: Ensure the output sequence length is less than or equal to the input sequence length\n",
    "input_seq_length = X.shape[0]\n",
    "output_seq_length = len(Y)\n",
    "if output_seq_length > input_seq_length:\n",
    "    output_seq = output_seq[:input_seq_length]\n",
    "\n",
    "# Call the CTC algorithm with the corrected input data and output sequence\n",
    "ctc_loss = connectionist_temporal_classification(input_seq, output_seq, num_labels)\n",
    "print(\"CTC Loss:\", ctc_loss)"
   ]
  },
  {
   "cell_type": "code",
   "execution_count": 21,
   "metadata": {},
   "outputs": [],
   "source": [
    "X = np.random.rand(4 , 20)\n",
    "Y = [1,2]\n",
    "num_labels = 8\n",
    "T, input_dim = X.shape # 4 , 20\n",
    "output_seq_length = len(Y) # 3\n",
    "blank_label = num_labels - 1 # 7\n",
    "\n",
    "#######################################\n",
    "\n",
    "# Step 2: Forward Algorithm\n",
    "forward_probs = np.zeros((T, num_labels))\n",
    "forward_probs[0, Y[0]] = 1\n",
    "\n",
    "\"\"\" array([[0., 1., 0., 0., 0., 0., 0., 0.],\n",
    "           [0., 0., 0., 0., 0., 0., 0., 0.],\n",
    "           [0., 0., 0., 0., 0., 0., 0., 0.],\n",
    "           [0., 0., 0., 0., 0., 0., 0., 0.]])  \n",
    "\"\"\"\n",
    "\n",
    "for t in range(1, T): # (1,4)\n",
    "    for label in range(num_labels): (8)\n",
    "        prob = forward_probs[t-1, label]\n",
    "        if label == Y[t]:\n",
    "            prob += forward_probs[t-1, label]\n",
    "        if Y[t] == blank_label:\n",
    "            prob += forward_probs[t-1, blank_label]\n",
    "        forward_probs[t, label] = prob"
   ]
  },
  {
   "cell_type": "code",
   "execution_count": 22,
   "metadata": {},
   "outputs": [
    {
     "data": {
      "text/plain": [
       "array([[0., 1., 0., 0., 0., 0., 0., 0.],\n",
       "       [0., 0., 0., 0., 0., 0., 0., 0.],\n",
       "       [0., 0., 0., 0., 0., 0., 0., 0.],\n",
       "       [0., 0., 0., 0., 0., 0., 0., 0.]])"
      ]
     },
     "execution_count": 22,
     "metadata": {},
     "output_type": "execute_result"
    }
   ],
   "source": [
    "a  = np.zeros((T, num_labels))\n",
    "a[0, Y[0]] = 1\n",
    "a"
   ]
  },
  {
   "cell_type": "code",
   "execution_count": null,
   "metadata": {},
   "outputs": [],
   "source": [
    "\n",
    "\n",
    "import numpy as np\n",
    "\n",
    "def connectionist_temporal_classification(X, Y, num_labels):\n",
    "    # Input:\n",
    "    # X: Input sequence (shape: (input_seq_length, input_feature_dim))\n",
    "    # Y: Output sequence (shape: (output_seq_length,))\n",
    "    # num_labels: Total number of labels (including the blank label)\n",
    "    \n",
    "    # Step 1: Initialization\n",
    "    T, input_dim = X.shape\n",
    "    output_seq_length = len(Y)\n",
    "    blank_label = num_labels - 1\n",
    "\n",
    "    # Step 2: Forward Algorithm\n",
    "    forward_probs = np.zeros((T, num_labels))\n",
    "    forward_probs[0, Y[0]] = 1\n",
    "\n",
    "    for t in range(1, T):\n",
    "        for label in range(num_labels):\n",
    "            prob = forward_probs[t-1, label]\n",
    "            if label == Y[t]:\n",
    "                prob += forward_probs[t-1, label]\n",
    "            if Y[t] == blank_label:\n",
    "                prob += forward_probs[t-1, blank_label]\n",
    "            forward_probs[t, label] = prob\n",
    "\n",
    "    # Step 3: Backward Algorithm\n",
    "    backward_probs = np.zeros((T, num_labels))\n",
    "    backward_probs[T-1, Y[output_seq_length - 1]] = 1\n",
    "\n",
    "    for t in range(T-2, -1, -1):\n",
    "        for label in range(num_labels):\n",
    "            prob = backward_probs[t+1, label]\n",
    "            if label == Y[t + 1]:\n",
    "                prob += backward_probs[t+1, label]\n",
    "            if Y[t + 1] == blank_label:\n",
    "                prob += backward_probs[t+1, blank_label]\n",
    "            backward_probs[t, label] = prob\n",
    "\n",
    "    # Step 4: Compute Aligned Probabilities\n",
    "    aligned_probs = forward_probs * backward_probs\n",
    "    aligned_probs /= np.sum(aligned_probs, axis=1, keepdims=True)\n",
    "\n",
    "    # Step 5: Remove Repetitions and Blank Labels\n",
    "    non_blank_probs = aligned_probs[:, :-1]\n",
    "    non_blank_probs = np.maximum(non_blank_probs, np.zeros_like(non_blank_probs))\n",
    "\n",
    "    # Step 6: Compute Loss\n",
    "    loss = -np.log(np.sum(non_blank_probs, axis=1)).sum()\n",
    "\n",
    "    return loss\n",
    "\n",
    "# Example Usage:\n",
    "input_seq = np.random.rand(100, 20)  # Example input sequence of length 100 and 20 features\n",
    "output_seq = [1, 3, 2]  # Example output sequence\n",
    "num_labels = 5  # Including the blank label\n",
    "\n",
    "ctc_loss = connectionist_temporal_classification(input_seq, output_seq, num_labels)\n",
    "print(\"CTC Loss:\", ctc_loss)\n"
   ]
  },
  {
   "cell_type": "code",
   "execution_count": 1,
   "metadata": {},
   "outputs": [
    {
     "name": "stdout",
     "output_type": "stream",
     "text": [
      "[['a', 'nd'], ['an', 'd'], ['a', 'n', 'd']]\n"
     ]
    }
   ],
   "source": [
    "def find_subwords(word_list, word_str):\n",
    "    n = len(word_str)\n",
    "    dp = [[] for _ in range(n + 1)]\n",
    "    dp[0] = [[]]\n",
    "\n",
    "    for end in range(1, n + 1):\n",
    "        for start in range(end):\n",
    "            subword = word_str[start:end]\n",
    "            if subword in word_list and dp[start]:\n",
    "                for prev_comb in dp[start]:\n",
    "                    dp[end].append(prev_comb + [subword])\n",
    "\n",
    "    return dp[n]\n",
    "\n",
    "# Test\n",
    "input_list = ['ad', 'a', 'd', 'n', 'd', 'an', 'nd']\n",
    "input_word = 'and'\n",
    "output = find_subwords(input_list, input_word)\n",
    "print(output) "
   ]
  },
  {
   "cell_type": "code",
   "execution_count": null,
   "metadata": {},
   "outputs": [],
   "source": []
  },
  {
   "cell_type": "code",
   "execution_count": 2,
   "metadata": {},
   "outputs": [],
   "source": [
    "n = 5\n",
    "dp = [[] for _ in range(n + 1)]\n",
    "dp[0] = [[]]"
   ]
  },
  {
   "cell_type": "code",
   "execution_count": 3,
   "metadata": {},
   "outputs": [
    {
     "data": {
      "text/plain": [
       "[[[]], [], [], [], [], []]"
      ]
     },
     "execution_count": 3,
     "metadata": {},
     "output_type": "execute_result"
    }
   ],
   "source": [
    "dp"
   ]
  },
  {
   "cell_type": "code",
   "execution_count": null,
   "metadata": {},
   "outputs": [],
   "source": []
  }
 ],
 "metadata": {
  "kernelspec": {
   "display_name": "Python 3",
   "language": "python",
   "name": "python3"
  },
  "language_info": {
   "codemirror_mode": {
    "name": "ipython",
    "version": 3
   },
   "file_extension": ".py",
   "mimetype": "text/x-python",
   "name": "python",
   "nbconvert_exporter": "python",
   "pygments_lexer": "ipython3",
   "version": "3.6.9"
  }
 },
 "nbformat": 4,
 "nbformat_minor": 4
}
